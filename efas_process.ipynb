{
 "cells": [
  {
   "cell_type": "markdown",
   "metadata": {},
   "source": [
    "Subset NC"
   ]
  },
  {
   "cell_type": "code",
   "execution_count": 5,
   "metadata": {},
   "outputs": [
    {
     "data": {
      "image/png": "[encoded data removed]",
      "text/plain": [
       "<Figure size 640x480 with 1 Axes>"
      ]
     },
     "metadata": {},
     "output_type": "display_data"
    }
   ],
   "source": [
    "import netCDF4\n",
    "import numpy as np\n",
    "from osgeo import gdal,osr,ogr\n",
    "import matplotlib.pyplot as plt\n",
    " \n",
    "# function to create the mask of your shapefile\n",
    "# function to create the mask of your shapefile\n",
    "def makeMask(lon,lat,res):\n",
    "    source_ds = ogr.Open(shapefile)\n",
    "    source_layer = source_ds.GetLayer()\n",
    " \n",
    "    # Create high res raster in memory\n",
    "    mem_ds = gdal.GetDriverByName('MEM').Create('', lon.size, lat.size, gdal.GDT_Byte)\n",
    "    mem_ds.SetGeoTransform((lon.min(), res, 0, lat.max(), 0, -res))\n",
    "    band = mem_ds.GetRasterBand(1)\n",
    " \n",
    "    # Rasterize shapefile to grid\n",
    "    gdal.RasterizeLayer(mem_ds, [1], source_layer, burn_values=[1])\n",
    " \n",
    "    # Get rasterized shapefile as numpy array\n",
    "    array = band.ReadAsArray()\n",
    " \n",
    "    # Flush memory file\n",
    "    mem_ds = None\n",
    "    band = None\n",
    "    return array\n",
    " \n",
    "# set the data directories\n",
    "datadir = \"/home/mohamed/Documents/DIRECTED/Directed/cs_apps/data/efas_data/\"\n",
    "shapefile = \"/home/mohamed/Documents/DIRECTED/data/rheine-erft.shp\"\n",
    "infile = \"efas_historical_Rhine_Erft_2023_12.nc\"\n",
    "ncs = datadir + infile\n",
    " \n",
    "# read the netcdf data file\n",
    "nc = netCDF4.Dataset(ncs,'r')\n",
    " \n",
    "# get the precipitation\n",
    "pr = nc.variables['dis06'][:]\n",
    "# Select a specific time step (replace 0 with the desired index)\n",
    "pr_timestep = pr[:, :, 0]\n",
    "\n",
    "# Show the precipitation for the selected time step\n",
    "plt.imshow(pr_timestep)\n",
    "plt.show()\n"
   ]
  },
  {
   "cell_type": "code",
   "execution_count": 10,
   "metadata": {},
   "outputs": [],
   "source": [
    "def makeMask(lon, lat, res, pr_shape):\n",
    "    source_ds = ogr.Open(shapefile)\n",
    "    source_layer = source_ds.GetLayer()\n",
    "\n",
    "    # Create high-res raster in memory\n",
    "    mem_ds = gdal.GetDriverByName('MEM').Create('', pr_shape[1], pr_shape[0], gdal.GDT_Byte)\n",
    "    mem_ds.SetGeoTransform((lon.min(), res, 0, lat.max(), 0, -res))\n",
    "    band = mem_ds.GetRasterBand(1)\n",
    "\n",
    "    # Rasterize shapefile to grid\n",
    "    gdal.RasterizeLayer(mem_ds, [1], source_layer, burn_values=[1])\n",
    "\n",
    "    # Get rasterized shapefile as a numpy array\n",
    "    array = band.ReadAsArray()\n",
    "\n",
    "    # Adjust the shape to match the precipitation array shape\n",
    "    array = np.flipud(array)\n",
    "\n",
    "    # Flush memory file\n",
    "    mem_ds = None\n",
    "    band = None\n",
    "    return array"
   ]
  },
  {
   "cell_type": "code",
   "execution_count": 13,
   "metadata": {},
   "outputs": [
    {
     "data": {
      "image/png": "[encoded data removed]",
      "text/plain": [
       "<Figure size 640x480 with 1 Axes>"
      ]
     },
     "metadata": {},
     "output_type": "display_data"
    },
    {
     "data": {
      "image/png": "[encoded data removed]",
      "text/plain": [
       "<Figure size 640x480 with 1 Axes>"
      ]
     },
     "metadata": {},
     "output_type": "display_data"
    },
    {
     "name": "stdout",
     "output_type": "stream",
     "text": [
      "0.0019531595 3.8602926917109928 31.700684\n"
     ]
    }
   ],
   "source": [
    "import numpy as np\n",
    "# get the longitude information\n",
    "lons = nc.variables['longitude'][:]\n",
    "# get the latitude information\n",
    "lats = nc.variables['latitude'][:]\n",
    "# calculate the cellsize\n",
    "cellsize = lons[:][1] - lons[:][0]\n",
    " \n",
    "# create the mask\n",
    "#mask = makeMask(lons,lats,cellsize)\n",
    "# create the mask\n",
    "mask = makeMask(lons, lats, cellsize, pr_timestep.shape)\n",
    "\n",
    "# show the mask\n",
    "plt.imshow(mask)\n",
    "plt.show()\n",
    " \n",
    "# mask the precipitation data\n",
    "precip = np.ma.masked_where(mask==0,pr_timestep)\n",
    " \n",
    "plt.imshow(precip)\n",
    "plt.show()\n",
    " \n",
    "# print some stats\n",
    "print (np.min(precip), np.mean(precip), np.max(precip))"
   ]
  },
  {
   "cell_type": "code",
   "execution_count": 10,
   "metadata": {},
   "outputs": [],
   "source": [
    "#import rasterio as rio\n",
    "from shapely.geometry import Point\n",
    "import rioxarray as rio\n",
    "import geopandas as gpd\n",
    "import xarray as xr\n",
    "import os "
   ]
  },
  {
   "cell_type": "code",
   "execution_count": 8,
   "metadata": {},
   "outputs": [],
   "source": [
    "shape = '/home/mohamed/Documents/DIRECTED/Directed/cs_apps/data/RWLs/germany_rhein_erft/rhein_erft.geojson'\n",
    "path = '/home/mohamed/Documents/DIRECTED/Directed/cs_apps/data/efas_data/efas_historical_Rhine_Erft_2023_12.nc'\n",
    "romagna = rio.open_rasterio(path)\n",
    "gdf = gpd.read_file(shape)\n",
    "romagna = romagna.rio.write_crs('EPSG:4258')\n",
    "gdf1 = gdf.to_crs('epsg:4258')\n",
    "clipped = romagna.rio.clip(gdf1.geometry.values, gdf1.crs, drop=False, invert=False)\n",
    "clipped = clipped.to_netcdf(\"/home/mohamed/Documents/DIRECTED/Directed/cs_apps/data/subset_efas/clipped_rhine_erft_2023_12.nc\")"
   ]
  },
  {
   "cell_type": "markdown",
   "metadata": {},
   "source": [
    "Subset (save to local)"
   ]
  },
  {
   "cell_type": "code",
   "execution_count": 6,
   "metadata": {},
   "outputs": [],
   "source": [
    "##FINAL WORKING clip and set crs for each RWL\n",
    "basedir = '/home/mohamed/Documents/DIRECTED/Directed/cs_apps/data/efas_data/'\n",
    "#shape = '/home/julia/directed/directed_app/data/zürs/germany.json'\n",
    "shape = '/home/mohamed/Documents/DIRECTED/Directed/cs_apps/data/RWLs/germany_rhein_erft/rhein_erft.geojson'\n",
    "paths = os.listdir(basedir)\n",
    "gdf = gpd.read_file(shape)\n",
    "gdf = gdf.to_crs('epsg:4258')\n",
    "rwl_merge = [xr.open_dataset(basedir + p) for p in paths if \"Rhine_Erft_2010\" in p]\n",
    "merged = xr.merge(rwl_merge)\n",
    "merged = merged.rio.write_crs('EPSG:4258')\n",
    "clipped = merged.rio.clip(gdf.geometry.values, gdf.crs, drop=False, invert=False)\n",
    "clipped = clipped.to_netcdf(\"/home/mohamed/Documents/DIRECTED/Directed/cs_apps/data/subset_efas//efas_historical_Rhine_Erft_2010.nc\")"
   ]
  },
  {
   "cell_type": "code",
   "execution_count": 11,
   "metadata": {},
   "outputs": [],
   "source": [
    "## WORKING LATLON AND DISCHARGE VALUES through time for single year\n",
    "basedir = '/home/mohamed/Documents/DIRECTED/Directed/cs_apps/data/efas_data/'\n",
    "shape = '/home/mohamed/Documents/DIRECTED/Directed/cs_apps/data/RWLs/germany_rhein_erft/rhein_erft.geojson'\n",
    "\n",
    "\n",
    "paths = os.listdir(basedir)\n",
    "gdf = gpd.read_file(shape)\n",
    "gdf = gdf.to_crs('epsg:4258')\n",
    "\n",
    "rwl_merge = [xr.open_dataset(basedir + p) for p in paths if \"Rhine_Erft_2011\" in p]\n",
    "merged = xr.merge(rwl_merge)\n",
    "merged = merged.rio.write_crs('EPSG:4258')\n",
    "ds = merged.rio.clip(gdf.geometry.values, gdf.crs, drop=False, invert=False)\n",
    "\n",
    "latitude = ds['latitude'].values\n",
    "longitude= ds['longitude'].values\n",
    "discharge = ds['dis06']\n",
    "df = discharge.stack(latlon=('latitude', 'longitude')) ##stack latlons into unique pairings by time\n",
    "df = df.to_dataframe()\n",
    "df['time'] = df.index.get_level_values('time') #add a time column for each latlon, with discharge\n",
    "df = df[['time', 'latitude', 'longitude', 'dis06']] #add all columns to the dataframe\n",
    "df = df.reset_index(drop=True) #reset the index so it is not multi-index\n",
    "coords_sort = df.sort_values(by=['latitude', 'longitude']) #sort by latlons, ALL data and timestamps\n",
    "\n",
    "\n",
    "###to export as a geojson\n",
    "geometry = [Point(xy) for xy in zip(coords_sort['longitude'], coords_sort['latitude'])]\n",
    "gdf = gpd.GeoDataFrame(coords_sort, geometry=geometry)\n",
    "gdf.to_file('/home/mohamed/Documents/DIRECTED/Directed/cs_apps/data/geoj_data/rhine_2011_latlon.geojson', driver='GeoJSON')\n",
    "\n",
    "### export as csv\n",
    "csv_filename = '/home/mohamed/Documents/DIRECTED/Directed/cs_apps/data/rhine_2011_latlon.csv'\n",
    "coords_sort.to_csv(csv_filename, index=False)"
   ]
  },
  {
   "cell_type": "markdown",
   "metadata": {},
   "source": [
    "Multiple years (GeoJSON - Rhein_erft Region)"
   ]
  },
  {
   "cell_type": "code",
   "execution_count": 16,
   "metadata": {},
   "outputs": [
    {
     "name": "stdout",
     "output_type": "stream",
     "text": [
      "GeoJSON file for 2010 saved\n",
      "GeoJSON file for 2011 saved\n",
      "GeoJSON file for 2012 saved\n",
      "GeoJSON file for 2013 saved\n",
      "GeoJSON file for 2014 saved\n",
      "GeoJSON file for 2015 saved\n",
      "GeoJSON file for 2016 saved\n",
      "GeoJSON file for 2017 saved\n",
      "GeoJSON file for 2018 saved\n",
      "GeoJSON file for 2019 saved\n",
      "GeoJSON file for 2020 saved\n",
      "GeoJSON file for 2021 saved\n",
      "GeoJSON file for 2022 saved\n",
      "GeoJSON file for 2023 saved\n"
     ]
    }
   ],
   "source": [
    "import os\n",
    "import geopandas as gpd\n",
    "import xarray as xr\n",
    "from shapely.geometry import Point\n",
    "\n",
    "basedir = '/home/mohamed/Documents/DIRECTED/Directed/cs_apps/data/efas_data/'\n",
    "shape = '/home/mohamed/Documents/DIRECTED/Directed/cs_apps/data/RWLs/germany_rhein_erft/rhein_erft.geojson'\n",
    "\n",
    "gdf = gpd.read_file(shape)\n",
    "gdf = gdf.to_crs('epsg:4258')\n",
    "\n",
    "years = range(2010, 2024)\n",
    "\n",
    "for year in years:\n",
    "    # Update the file pattern for the new naming convention\n",
    "    file_pattern = f\"efas_historical_Rhine_Erft_{year}\"\n",
    "    \n",
    "    # Filter files based on the year\n",
    "    paths = [p for p in os.listdir(basedir) if file_pattern in p]\n",
    "    \n",
    "    if paths:\n",
    "        rwl_merge = [xr.open_dataset(os.path.join(basedir, p)) for p in paths]\n",
    "        merged = xr.merge(rwl_merge)\n",
    "        merged = merged.rio.write_crs('EPSG:4258')\n",
    "        ds = merged.rio.clip(gdf.geometry.values, gdf.crs, drop=False, invert=False)\n",
    "\n",
    "        latitude = ds['latitude'].values\n",
    "        longitude = ds['longitude'].values\n",
    "        discharge = ds['dis06']\n",
    "        df = discharge.stack(latlon=('latitude', 'longitude'))\n",
    "        df = df.to_dataframe()\n",
    "        df['time'] = df.index.get_level_values('time')\n",
    "        df = df[['time', 'latitude', 'longitude', 'dis06']]\n",
    "        df = df.reset_index(drop=True)\n",
    "        coords_sort = df.sort_values(by=['latitude', 'longitude'])\n",
    "\n",
    "        ### Export as GeoJSON\n",
    "        geometry = [Point(xy) for xy in zip(df['longitude'], df['latitude'])]\n",
    "        gdf_temp = gpd.GeoDataFrame(df, geometry=geometry)\n",
    "        output_geojson = f'/home/mohamed/Documents/DIRECTED/Directed/cs_apps/data/geoj_data/rhine_{year}_latlon.geojson'\n",
    "        gdf_temp.to_file(output_geojson, driver='GeoJSON')\n",
    "        print(f\"GeoJSON file for {year} saved\")\n",
    "\n",
    "        ### Export as CSV\n",
    "        # output_csv = f'/home/mohamed/Documents/DIRECTED/Directed/cs_apps/data/rhine_{year}_latlon.csv'\n",
    "        # df.to_csv(output_csv, index=False)\n",
    "        # print(f\"CSV file for {year}\")\n",
    "    else:\n",
    "        print(f\"No data found for {year}\")\n"
   ]
  },
  {
   "cell_type": "code",
   "execution_count": null,
   "metadata": {},
   "outputs": [],
   "source": []
  }
 ],
 "metadata": {
  "kernelspec": {
   "display_name": "Python 3",
   "language": "python",
   "name": "python3"
  },
  "language_info": {
   "codemirror_mode": {
    "name": "ipython",
    "version": 3
   },
   "file_extension": ".py",
   "mimetype": "text/x-python",
   "name": "python",
   "nbconvert_exporter": "python",
   "pygments_lexer": "ipython3",
   "version": "3.10.12"
  }
 },
 "nbformat": 4,
 "nbformat_minor": 2
}
