{
 "cells": [
  {
   "cell_type": "code",
   "execution_count": 2,
   "id": "4af317ad",
   "metadata": {},
   "outputs": [],
   "source": [
    "e2010_12 = xr.load_dataset('download/CSU_C3S-glob-agric_hadgem2-es_rcp8p5_season_20110101-20401231_v1.1.nc',engine = 'netcdf4')"
   ]
  },
  {
   "cell_type": "code",
   "execution_count": 3,
   "id": "24eb3c0e",
   "metadata": {},
   "outputs": [
    {
     "data": {
      "text/html": [
       "<div><svg style=\"position: absolute; width: 0; height: 0; overflow: hidden\">\n",
       "<defs>\n",
       "<symbol id=\"icon-database\" viewBox=\"0 0 32 32\">\n",
       "<path d=\"M16 0c-8.837 0-16 2.239-16 5v4c0 2.761 7.163 5 16 5s16-2.239 16-5v-4c0-2.761-7.163-5-16-5z\"></path>\n",
       "<path d=\"M16 17c-8.837 0-16-2.239-16-5v6c0 2.761 7.163 5 16 5s16-2.239 16-5v-6c0 2.761-7.163 5-16 5z\"></path>\n",
       "<path d=\"M16 26c-8.837 0-16-2.239-16-5v6c0 2.761 7.163 5 16 5s16-2.239 16-5v-6c0 2.761-7.163 5-16 5z\"></path>\n",
       "</symbol>\n",
       "<symbol id=\"icon-file-text2\" viewBox=\"0 0 32 32\">\n",
       "<path d=\"M28.681 7.159c-0.694-0.947-1.662-2.053-2.724-3.116s-2.169-2.030-3.116-2.724c-1.612-1.182-2.393-1.319-2.841-1.319h-15.5c-1.378 0-2.5 1.121-2.5 2.5v27c0 1.378 1.122 2.5 2.5 2.5h23c1.378 0 2.5-1.122 2.5-2.5v-19.5c0-0.448-0.137-1.23-1.319-2.841zM24.543 5.457c0.959 0.959 1.712 1.825 2.268 2.543h-4.811v-4.811c0.718 0.556 1.584 1.309 2.543 2.268zM28 29.5c0 0.271-0.229 0.5-0.5 0.5h-23c-0.271 0-0.5-0.229-0.5-0.5v-27c0-0.271 0.229-0.5 0.5-0.5 0 0 15.499-0 15.5 0v7c0 0.552 0.448 1 1 1h7v19.5z\"></path>\n",
       "<path d=\"M23 26h-14c-0.552 0-1-0.448-1-1s0.448-1 1-1h14c0.552 0 1 0.448 1 1s-0.448 1-1 1z\"></path>\n",
       "<path d=\"M23 22h-14c-0.552 0-1-0.448-1-1s0.448-1 1-1h14c0.552 0 1 0.448 1 1s-0.448 1-1 1z\"></path>\n",
       "<path d=\"M23 18h-14c-0.552 0-1-0.448-1-1s0.448-1 1-1h14c0.552 0 1 0.448 1 1s-0.448 1-1 1z\"></path>\n",
       "</symbol>\n",
       "</defs>\n",
       "</svg>\n",
       "<style>/* CSS stylesheet for displaying xarray objects in jupyterlab.\n",
       " *\n",
       " */\n",
       "\n",
       ":root {\n",
       "  --xr-font-color0: var(--jp-content-font-color0, rgba(0, 0, 0, 1));\n",
       "  --xr-font-color2: var(--jp-content-font-color2, rgba(0, 0, 0, 0.54));\n",
       "  --xr-font-color3: var(--jp-content-font-color3, rgba(0, 0, 0, 0.38));\n",
       "  --xr-border-color: var(--jp-border-color2, #e0e0e0);\n",
       "  --xr-disabled-color: var(--jp-layout-color3, #bdbdbd);\n",
       "  --xr-background-color: var(--jp-layout-color0, white);\n",
       "  --xr-background-color-row-even: var(--jp-layout-color1, white);\n",
       "  --xr-background-color-row-odd: var(--jp-layout-color2, #eeeeee);\n",
       "}\n",
       "\n",
       "html[theme=dark],\n",
       "body[data-theme=dark],\n",
       "body.vscode-dark {\n",
       "  --xr-font-color0: rgba(255, 255, 255, 1);\n",
       "  --xr-font-color2: rgba(255, 255, 255, 0.54);\n",
       "  --xr-font-color3: rgba(255, 255, 255, 0.38);\n",
       "  --xr-border-color: #1F1F1F;\n",
       "  --xr-disabled-color: #515151;\n",
       "  --xr-background-color: #111111;\n",
       "  --xr-background-color-row-even: #111111;\n",
       "  --xr-background-color-row-odd: #313131;\n",
       "}\n",
       "\n",
       ".xr-wrap {\n",
       "  display: block !important;\n",
       "  min-width: 300px;\n",
       "  max-width: 700px;\n",
       "}\n",
       "\n",
       ".xr-text-repr-fallback {\n",
       "  /* fallback to plain text repr when CSS is not injected (untrusted notebook) */\n",
       "  display: none;\n",
       "}\n",
       "\n",
       ".xr-header {\n",
       "  padding-top: 6px;\n",
       "  padding-bottom: 6px;\n",
       "  margin-bottom: 4px;\n",
       "  border-bottom: solid 1px var(--xr-border-color);\n",
       "}\n",
       "\n",
       ".xr-header > div,\n",
       ".xr-header > ul {\n",
       "  display: inline;\n",
       "  margin-top: 0;\n",
       "  margin-bottom: 0;\n",
       "}\n",
       "\n",
       ".xr-obj-type,\n",
       ".xr-array-name {\n",
       "  margin-left: 2px;\n",
       "  margin-right: 10px;\n",
       "}\n",
       "\n",
       ".xr-obj-type {\n",
       "  color: var(--xr-font-color2);\n",
       "}\n",
       "\n",
       ".xr-sections {\n",
       "  padding-left: 0 !important;\n",
       "  display: grid;\n",
       "  grid-template-columns: 150px auto auto 1fr 20px 20px;\n",
       "}\n",
       "\n",
       ".xr-section-item {\n",
       "  display: contents;\n",
       "}\n",
       "\n",
       ".xr-section-item input {\n",
       "  display: none;\n",
       "}\n",
       "\n",
       ".xr-section-item input + label {\n",
       "  color: var(--xr-disabled-color);\n",
       "}\n",
       "\n",
       ".xr-section-item input:enabled + label {\n",
       "  cursor: pointer;\n",
       "  color: var(--xr-font-color2);\n",
       "}\n",
       "\n",
       ".xr-section-item input:enabled + label:hover {\n",
       "  color: var(--xr-font-color0);\n",
       "}\n",
       "\n",
       ".xr-section-summary {\n",
       "  grid-column: 1;\n",
       "  color: var(--xr-font-color2);\n",
       "  font-weight: 500;\n",
       "}\n",
       "\n",
       ".xr-section-summary > span {\n",
       "  display: inline-block;\n",
       "  padding-left: 0.5em;\n",
       "}\n",
       "\n",
       ".xr-section-summary-in:disabled + label {\n",
       "  color: var(--xr-font-color2);\n",
       "}\n",
       "\n",
       ".xr-section-summary-in + label:before {\n",
       "  display: inline-block;\n",
       "  content: '►';\n",
       "  font-size: 11px;\n",
       "  width: 15px;\n",
       "  text-align: center;\n",
       "}\n",
       "\n",
       ".xr-section-summary-in:disabled + label:before {\n",
       "  color: var(--xr-disabled-color);\n",
       "}\n",
       "\n",
       ".xr-section-summary-in:checked + label:before {\n",
       "  content: '▼';\n",
       "}\n",
       "\n",
       ".xr-section-summary-in:checked + label > span {\n",
       "  display: none;\n",
       "}\n",
       "\n",
       ".xr-section-summary,\n",
       ".xr-section-inline-details {\n",
       "  padding-top: 4px;\n",
       "  padding-bottom: 4px;\n",
       "}\n",
       "\n",
       ".xr-section-inline-details {\n",
       "  grid-column: 2 / -1;\n",
       "}\n",
       "\n",
       ".xr-section-details {\n",
       "  display: none;\n",
       "  grid-column: 1 / -1;\n",
       "  margin-bottom: 5px;\n",
       "}\n",
       "\n",
       ".xr-section-summary-in:checked ~ .xr-section-details {\n",
       "  display: contents;\n",
       "}\n",
       "\n",
       ".xr-array-wrap {\n",
       "  grid-column: 1 / -1;\n",
       "  display: grid;\n",
       "  grid-template-columns: 20px auto;\n",
       "}\n",
       "\n",
       ".xr-array-wrap > label {\n",
       "  grid-column: 1;\n",
       "  vertical-align: top;\n",
       "}\n",
       "\n",
       ".xr-preview {\n",
       "  color: var(--xr-font-color3);\n",
       "}\n",
       "\n",
       ".xr-array-preview,\n",
       ".xr-array-data {\n",
       "  padding: 0 5px !important;\n",
       "  grid-column: 2;\n",
       "}\n",
       "\n",
       ".xr-array-data,\n",
       ".xr-array-in:checked ~ .xr-array-preview {\n",
       "  display: none;\n",
       "}\n",
       "\n",
       ".xr-array-in:checked ~ .xr-array-data,\n",
       ".xr-array-preview {\n",
       "  display: inline-block;\n",
       "}\n",
       "\n",
       ".xr-dim-list {\n",
       "  display: inline-block !important;\n",
       "  list-style: none;\n",
       "  padding: 0 !important;\n",
       "  margin: 0;\n",
       "}\n",
       "\n",
       ".xr-dim-list li {\n",
       "  display: inline-block;\n",
       "  padding: 0;\n",
       "  margin: 0;\n",
       "}\n",
       "\n",
       ".xr-dim-list:before {\n",
       "  content: '(';\n",
       "}\n",
       "\n",
       ".xr-dim-list:after {\n",
       "  content: ')';\n",
       "}\n",
       "\n",
       ".xr-dim-list li:not(:last-child):after {\n",
       "  content: ',';\n",
       "  padding-right: 5px;\n",
       "}\n",
       "\n",
       ".xr-has-index {\n",
       "  font-weight: bold;\n",
       "}\n",
       "\n",
       ".xr-var-list,\n",
       ".xr-var-item {\n",
       "  display: contents;\n",
       "}\n",
       "\n",
       ".xr-var-item > div,\n",
       ".xr-var-item label,\n",
       ".xr-var-item > .xr-var-name span {\n",
       "  background-color: var(--xr-background-color-row-even);\n",
       "  margin-bottom: 0;\n",
       "}\n",
       "\n",
       ".xr-var-item > .xr-var-name:hover span {\n",
       "  padding-right: 5px;\n",
       "}\n",
       "\n",
       ".xr-var-list > li:nth-child(odd) > div,\n",
       ".xr-var-list > li:nth-child(odd) > label,\n",
       ".xr-var-list > li:nth-child(odd) > .xr-var-name span {\n",
       "  background-color: var(--xr-background-color-row-odd);\n",
       "}\n",
       "\n",
       ".xr-var-name {\n",
       "  grid-column: 1;\n",
       "}\n",
       "\n",
       ".xr-var-dims {\n",
       "  grid-column: 2;\n",
       "}\n",
       "\n",
       ".xr-var-dtype {\n",
       "  grid-column: 3;\n",
       "  text-align: right;\n",
       "  color: var(--xr-font-color2);\n",
       "}\n",
       "\n",
       ".xr-var-preview {\n",
       "  grid-column: 4;\n",
       "}\n",
       "\n",
       ".xr-index-preview {\n",
       "  grid-column: 2 / 5;\n",
       "  color: var(--xr-font-color2);\n",
       "}\n",
       "\n",
       ".xr-var-name,\n",
       ".xr-var-dims,\n",
       ".xr-var-dtype,\n",
       ".xr-preview,\n",
       ".xr-attrs dt {\n",
       "  white-space: nowrap;\n",
       "  overflow: hidden;\n",
       "  text-overflow: ellipsis;\n",
       "  padding-right: 10px;\n",
       "}\n",
       "\n",
       ".xr-var-name:hover,\n",
       ".xr-var-dims:hover,\n",
       ".xr-var-dtype:hover,\n",
       ".xr-attrs dt:hover {\n",
       "  overflow: visible;\n",
       "  width: auto;\n",
       "  z-index: 1;\n",
       "}\n",
       "\n",
       ".xr-var-attrs,\n",
       ".xr-var-data,\n",
       ".xr-index-data {\n",
       "  display: none;\n",
       "  background-color: var(--xr-background-color) !important;\n",
       "  padding-bottom: 5px !important;\n",
       "}\n",
       "\n",
       ".xr-var-attrs-in:checked ~ .xr-var-attrs,\n",
       ".xr-var-data-in:checked ~ .xr-var-data,\n",
       ".xr-index-data-in:checked ~ .xr-index-data {\n",
       "  display: block;\n",
       "}\n",
       "\n",
       ".xr-var-data > table {\n",
       "  float: right;\n",
       "}\n",
       "\n",
       ".xr-var-name span,\n",
       ".xr-var-data,\n",
       ".xr-index-name div,\n",
       ".xr-index-data,\n",
       ".xr-attrs {\n",
       "  padding-left: 25px !important;\n",
       "}\n",
       "\n",
       ".xr-attrs,\n",
       ".xr-var-attrs,\n",
       ".xr-var-data,\n",
       ".xr-index-data {\n",
       "  grid-column: 1 / -1;\n",
       "}\n",
       "\n",
       "dl.xr-attrs {\n",
       "  padding: 0;\n",
       "  margin: 0;\n",
       "  display: grid;\n",
       "  grid-template-columns: 125px auto;\n",
       "}\n",
       "\n",
       ".xr-attrs dt,\n",
       ".xr-attrs dd {\n",
       "  padding: 0;\n",
       "  margin: 0;\n",
       "  float: left;\n",
       "  padding-right: 10px;\n",
       "  width: auto;\n",
       "}\n",
       "\n",
       ".xr-attrs dt {\n",
       "  font-weight: normal;\n",
       "  grid-column: 1;\n",
       "}\n",
       "\n",
       ".xr-attrs dt:hover span {\n",
       "  display: inline-block;\n",
       "  background: var(--xr-background-color);\n",
       "  padding-right: 10px;\n",
       "}\n",
       "\n",
       ".xr-attrs dd {\n",
       "  grid-column: 2;\n",
       "  white-space: pre-wrap;\n",
       "  word-break: break-all;\n",
       "}\n",
       "\n",
       ".xr-icon-database,\n",
       ".xr-icon-file-text2,\n",
       ".xr-no-icon {\n",
       "  display: inline-block;\n",
       "  vertical-align: middle;\n",
       "  width: 1em;\n",
       "  height: 1.5em !important;\n",
       "  stroke-width: 0;\n",
       "  stroke: currentColor;\n",
       "  fill: currentColor;\n",
       "}\n",
       "</style><pre class='xr-text-repr-fallback'>&lt;xarray.Dataset&gt;\n",
       "Dimensions:      (time: 119, lat: 360, lon: 720, bounds: 2)\n",
       "Coordinates:\n",
       "  * time         (time) datetime64[ns] 2011-04-16 2011-07-16 ... 2040-10-16\n",
       "  * lat          (lat) float64 -89.75 -89.25 -88.75 -88.25 ... 88.75 89.25 89.75\n",
       "  * lon          (lon) float64 -179.8 -179.2 -178.8 -178.2 ... 178.8 179.2 179.8\n",
       "Dimensions without coordinates: bounds\n",
       "Data variables:\n",
       "    time_bounds  (time, bounds) datetime64[ns] 2011-03-01 ... 2040-12-01\n",
       "    CSU          (time, lat, lon) float32 nan nan nan nan ... nan nan nan nan\n",
       "Attributes: (12/14)\n",
       "    title:          CSU index from ECA heat indices\n",
       "    institution:    Copernicus Climate Change Service\n",
       "    source:         Climate projection datasets from the ISIMIP Fast Track pr...\n",
       "    references:     Tank, A.K., 2010. European Climate Assessment and Dataset...\n",
       "    comment:        \n",
       "    history:        Tue Sep 19 11:31:16 2017: cdo -f nc4c -z zip mergetime ta...\n",
       "    ...             ...\n",
       "    contact:        https://climate.copernicus.eu\n",
       "    project:        C3S_422 Global Agriculture\n",
       "    creation_date:  2019-04-17T22:00:07GMT\n",
       "    lineage:        \n",
       "    keywords:       \n",
       "    license:        </pre><div class='xr-wrap' style='display:none'><div class='xr-header'><div class='xr-obj-type'>xarray.Dataset</div></div><ul class='xr-sections'><li class='xr-section-item'><input id='section-56f9ef03-cc39-4ca2-9c90-3ac6c674a313' class='xr-section-summary-in' type='checkbox' disabled ><label for='section-56f9ef03-cc39-4ca2-9c90-3ac6c674a313' class='xr-section-summary'  title='Expand/collapse section'>Dimensions:</label><div class='xr-section-inline-details'><ul class='xr-dim-list'><li><span class='xr-has-index'>time</span>: 119</li><li><span class='xr-has-index'>lat</span>: 360</li><li><span class='xr-has-index'>lon</span>: 720</li><li><span>bounds</span>: 2</li></ul></div><div class='xr-section-details'></div></li><li class='xr-section-item'><input id='section-c231fc09-a4cd-4932-bcb9-b82f80eb06e1' class='xr-section-summary-in' type='checkbox'  checked><label for='section-c231fc09-a4cd-4932-bcb9-b82f80eb06e1' class='xr-section-summary' >Coordinates: <span>(3)</span></label><div class='xr-section-inline-details'></div><div class='xr-section-details'><ul class='xr-var-list'><li class='xr-var-item'><div class='xr-var-name'><span class='xr-has-index'>time</span></div><div class='xr-var-dims'>(time)</div><div class='xr-var-dtype'>datetime64[ns]</div><div class='xr-var-preview xr-preview'>2011-04-16 ... 2040-10-16</div><input id='attrs-b432240d-07b3-4e8e-9599-750cde249538' class='xr-var-attrs-in' type='checkbox' ><label for='attrs-b432240d-07b3-4e8e-9599-750cde249538' title='Show/Hide attributes'><svg class='icon xr-icon-file-text2'><use xlink:href='#icon-file-text2'></use></svg></label><input id='data-ccfe025b-89b2-4cb5-bef2-6cfa647cd528' class='xr-var-data-in' type='checkbox'><label for='data-ccfe025b-89b2-4cb5-bef2-6cfa647cd528' title='Show/Hide data repr'><svg class='icon xr-icon-database'><use xlink:href='#icon-database'></use></svg></label><div class='xr-var-attrs'><dl class='xr-attrs'><dt><span>standard_name :</span></dt><dd>time</dd><dt><span>bounds :</span></dt><dd>time_bounds</dd></dl></div><div class='xr-var-data'><pre>array([&#x27;2011-04-16T00:00:00.000000000&#x27;, &#x27;2011-07-16T00:00:00.000000000&#x27;,\n",
       "       &#x27;2011-10-16T00:00:00.000000000&#x27;, &#x27;2012-01-16T00:00:00.000000000&#x27;,\n",
       "       &#x27;2012-04-16T00:00:00.000000000&#x27;, &#x27;2012-07-16T00:00:00.000000000&#x27;,\n",
       "       &#x27;2012-10-16T00:00:00.000000000&#x27;, &#x27;2013-01-16T00:00:00.000000000&#x27;,\n",
       "       &#x27;2013-04-16T00:00:00.000000000&#x27;, &#x27;2013-07-16T00:00:00.000000000&#x27;,\n",
       "       &#x27;2013-10-16T00:00:00.000000000&#x27;, &#x27;2014-01-16T00:00:00.000000000&#x27;,\n",
       "       &#x27;2014-04-16T00:00:00.000000000&#x27;, &#x27;2014-07-16T00:00:00.000000000&#x27;,\n",
       "       &#x27;2014-10-16T00:00:00.000000000&#x27;, &#x27;2015-01-16T00:00:00.000000000&#x27;,\n",
       "       &#x27;2015-04-16T00:00:00.000000000&#x27;, &#x27;2015-07-16T00:00:00.000000000&#x27;,\n",
       "       &#x27;2015-10-16T00:00:00.000000000&#x27;, &#x27;2016-01-16T00:00:00.000000000&#x27;,\n",
       "       &#x27;2016-04-16T00:00:00.000000000&#x27;, &#x27;2016-07-16T00:00:00.000000000&#x27;,\n",
       "       &#x27;2016-10-16T00:00:00.000000000&#x27;, &#x27;2017-01-16T00:00:00.000000000&#x27;,\n",
       "       &#x27;2017-04-16T00:00:00.000000000&#x27;, &#x27;2017-07-16T00:00:00.000000000&#x27;,\n",
       "       &#x27;2017-10-16T00:00:00.000000000&#x27;, &#x27;2018-01-16T00:00:00.000000000&#x27;,\n",
       "       &#x27;2018-04-16T00:00:00.000000000&#x27;, &#x27;2018-07-16T00:00:00.000000000&#x27;,\n",
       "       &#x27;2018-10-16T00:00:00.000000000&#x27;, &#x27;2019-01-16T00:00:00.000000000&#x27;,\n",
       "       &#x27;2019-04-16T00:00:00.000000000&#x27;, &#x27;2019-07-16T00:00:00.000000000&#x27;,\n",
       "       &#x27;2019-10-16T00:00:00.000000000&#x27;, &#x27;2020-01-16T00:00:00.000000000&#x27;,\n",
       "       &#x27;2020-04-16T00:00:00.000000000&#x27;, &#x27;2020-07-16T00:00:00.000000000&#x27;,\n",
       "       &#x27;2020-10-16T00:00:00.000000000&#x27;, &#x27;2021-01-16T00:00:00.000000000&#x27;,\n",
       "       &#x27;2021-04-16T00:00:00.000000000&#x27;, &#x27;2021-07-16T00:00:00.000000000&#x27;,\n",
       "       &#x27;2021-10-16T00:00:00.000000000&#x27;, &#x27;2022-01-16T00:00:00.000000000&#x27;,\n",
       "       &#x27;2022-04-16T00:00:00.000000000&#x27;, &#x27;2022-07-16T00:00:00.000000000&#x27;,\n",
       "       &#x27;2022-10-16T00:00:00.000000000&#x27;, &#x27;2023-01-16T00:00:00.000000000&#x27;,\n",
       "       &#x27;2023-04-16T00:00:00.000000000&#x27;, &#x27;2023-07-16T00:00:00.000000000&#x27;,\n",
       "       &#x27;2023-10-16T00:00:00.000000000&#x27;, &#x27;2024-01-16T00:00:00.000000000&#x27;,\n",
       "       &#x27;2024-04-16T00:00:00.000000000&#x27;, &#x27;2024-07-16T00:00:00.000000000&#x27;,\n",
       "       &#x27;2024-10-16T00:00:00.000000000&#x27;, &#x27;2025-01-16T00:00:00.000000000&#x27;,\n",
       "       &#x27;2025-04-16T00:00:00.000000000&#x27;, &#x27;2025-07-16T00:00:00.000000000&#x27;,\n",
       "       &#x27;2025-10-16T00:00:00.000000000&#x27;, &#x27;2026-01-16T00:00:00.000000000&#x27;,\n",
       "       &#x27;2026-04-16T00:00:00.000000000&#x27;, &#x27;2026-07-16T00:00:00.000000000&#x27;,\n",
       "       &#x27;2026-10-16T00:00:00.000000000&#x27;, &#x27;2027-01-16T00:00:00.000000000&#x27;,\n",
       "       &#x27;2027-04-16T00:00:00.000000000&#x27;, &#x27;2027-07-16T00:00:00.000000000&#x27;,\n",
       "       &#x27;2027-10-16T00:00:00.000000000&#x27;, &#x27;2028-01-16T00:00:00.000000000&#x27;,\n",
       "       &#x27;2028-04-16T00:00:00.000000000&#x27;, &#x27;2028-07-16T00:00:00.000000000&#x27;,\n",
       "       &#x27;2028-10-16T00:00:00.000000000&#x27;, &#x27;2029-01-16T00:00:00.000000000&#x27;,\n",
       "       &#x27;2029-04-16T00:00:00.000000000&#x27;, &#x27;2029-07-16T00:00:00.000000000&#x27;,\n",
       "       &#x27;2029-10-16T00:00:00.000000000&#x27;, &#x27;2030-01-16T00:00:00.000000000&#x27;,\n",
       "       &#x27;2030-04-16T00:00:00.000000000&#x27;, &#x27;2030-07-16T00:00:00.000000000&#x27;,\n",
       "       &#x27;2030-10-16T00:00:00.000000000&#x27;, &#x27;2031-01-16T00:00:00.000000000&#x27;,\n",
       "       &#x27;2031-04-16T00:00:00.000000000&#x27;, &#x27;2031-07-16T00:00:00.000000000&#x27;,\n",
       "       &#x27;2031-10-16T00:00:00.000000000&#x27;, &#x27;2032-01-16T00:00:00.000000000&#x27;,\n",
       "       &#x27;2032-04-16T00:00:00.000000000&#x27;, &#x27;2032-07-16T00:00:00.000000000&#x27;,\n",
       "       &#x27;2032-10-16T00:00:00.000000000&#x27;, &#x27;2033-01-16T00:00:00.000000000&#x27;,\n",
       "       &#x27;2033-04-16T00:00:00.000000000&#x27;, &#x27;2033-07-16T00:00:00.000000000&#x27;,\n",
       "       &#x27;2033-10-16T00:00:00.000000000&#x27;, &#x27;2034-01-16T00:00:00.000000000&#x27;,\n",
       "       &#x27;2034-04-16T00:00:00.000000000&#x27;, &#x27;2034-07-16T00:00:00.000000000&#x27;,\n",
       "       &#x27;2034-10-16T00:00:00.000000000&#x27;, &#x27;2035-01-16T00:00:00.000000000&#x27;,\n",
       "       &#x27;2035-04-16T00:00:00.000000000&#x27;, &#x27;2035-07-16T00:00:00.000000000&#x27;,\n",
       "       &#x27;2035-10-16T00:00:00.000000000&#x27;, &#x27;2036-01-16T00:00:00.000000000&#x27;,\n",
       "       &#x27;2036-04-16T00:00:00.000000000&#x27;, &#x27;2036-07-16T00:00:00.000000000&#x27;,\n",
       "       &#x27;2036-10-16T00:00:00.000000000&#x27;, &#x27;2037-01-16T00:00:00.000000000&#x27;,\n",
       "       &#x27;2037-04-16T00:00:00.000000000&#x27;, &#x27;2037-07-16T00:00:00.000000000&#x27;,\n",
       "       &#x27;2037-10-16T00:00:00.000000000&#x27;, &#x27;2038-01-16T00:00:00.000000000&#x27;,\n",
       "       &#x27;2038-04-16T00:00:00.000000000&#x27;, &#x27;2038-07-16T00:00:00.000000000&#x27;,\n",
       "       &#x27;2038-10-16T00:00:00.000000000&#x27;, &#x27;2039-01-16T00:00:00.000000000&#x27;,\n",
       "       &#x27;2039-04-16T00:00:00.000000000&#x27;, &#x27;2039-07-16T00:00:00.000000000&#x27;,\n",
       "       &#x27;2039-10-16T00:00:00.000000000&#x27;, &#x27;2040-01-16T00:00:00.000000000&#x27;,\n",
       "       &#x27;2040-04-16T00:00:00.000000000&#x27;, &#x27;2040-07-16T00:00:00.000000000&#x27;,\n",
       "       &#x27;2040-10-16T00:00:00.000000000&#x27;], dtype=&#x27;datetime64[ns]&#x27;)</pre></div></li><li class='xr-var-item'><div class='xr-var-name'><span class='xr-has-index'>lat</span></div><div class='xr-var-dims'>(lat)</div><div class='xr-var-dtype'>float64</div><div class='xr-var-preview xr-preview'>-89.75 -89.25 ... 89.25 89.75</div><input id='attrs-a8b0ec69-f07f-40e7-aea3-7032c855aae9' class='xr-var-attrs-in' type='checkbox' ><label for='attrs-a8b0ec69-f07f-40e7-aea3-7032c855aae9' title='Show/Hide attributes'><svg class='icon xr-icon-file-text2'><use xlink:href='#icon-file-text2'></use></svg></label><input id='data-7d00963e-dac6-4ba8-9011-0bbe5dbc2405' class='xr-var-data-in' type='checkbox'><label for='data-7d00963e-dac6-4ba8-9011-0bbe5dbc2405' title='Show/Hide data repr'><svg class='icon xr-icon-database'><use xlink:href='#icon-database'></use></svg></label><div class='xr-var-attrs'><dl class='xr-attrs'><dt><span>standard_name :</span></dt><dd>latitude</dd><dt><span>long_name :</span></dt><dd>latitude</dd><dt><span>units :</span></dt><dd>degrees_north</dd><dt><span>axis :</span></dt><dd>Y</dd></dl></div><div class='xr-var-data'><pre>array([-89.75, -89.25, -88.75, ...,  88.75,  89.25,  89.75])</pre></div></li><li class='xr-var-item'><div class='xr-var-name'><span class='xr-has-index'>lon</span></div><div class='xr-var-dims'>(lon)</div><div class='xr-var-dtype'>float64</div><div class='xr-var-preview xr-preview'>-179.8 -179.2 ... 179.2 179.8</div><input id='attrs-f107abfb-71fc-4dcf-bafe-1633d1d814be' class='xr-var-attrs-in' type='checkbox' ><label for='attrs-f107abfb-71fc-4dcf-bafe-1633d1d814be' title='Show/Hide attributes'><svg class='icon xr-icon-file-text2'><use xlink:href='#icon-file-text2'></use></svg></label><input id='data-ec355b30-5778-4864-ac2f-4f59d3eecbc7' class='xr-var-data-in' type='checkbox'><label for='data-ec355b30-5778-4864-ac2f-4f59d3eecbc7' title='Show/Hide data repr'><svg class='icon xr-icon-database'><use xlink:href='#icon-database'></use></svg></label><div class='xr-var-attrs'><dl class='xr-attrs'><dt><span>standard_name :</span></dt><dd>longitude</dd><dt><span>long_name :</span></dt><dd>longitude</dd><dt><span>units :</span></dt><dd>degrees_east</dd><dt><span>axis :</span></dt><dd>X</dd></dl></div><div class='xr-var-data'><pre>array([-179.75, -179.25, -178.75, ...,  178.75,  179.25,  179.75])</pre></div></li></ul></div></li><li class='xr-section-item'><input id='section-703e7992-775b-4416-85c4-11f1433a0d7d' class='xr-section-summary-in' type='checkbox'  checked><label for='section-703e7992-775b-4416-85c4-11f1433a0d7d' class='xr-section-summary' >Data variables: <span>(2)</span></label><div class='xr-section-inline-details'></div><div class='xr-section-details'><ul class='xr-var-list'><li class='xr-var-item'><div class='xr-var-name'><span>time_bounds</span></div><div class='xr-var-dims'>(time, bounds)</div><div class='xr-var-dtype'>datetime64[ns]</div><div class='xr-var-preview xr-preview'>2011-03-01 ... 2040-12-01</div><input id='attrs-ffc3872e-21f0-4b6e-b17e-1dfc27e79d71' class='xr-var-attrs-in' type='checkbox' disabled><label for='attrs-ffc3872e-21f0-4b6e-b17e-1dfc27e79d71' title='Show/Hide attributes'><svg class='icon xr-icon-file-text2'><use xlink:href='#icon-file-text2'></use></svg></label><input id='data-6ba6673b-6cec-4b4f-8c18-90a78b75fd74' class='xr-var-data-in' type='checkbox'><label for='data-6ba6673b-6cec-4b4f-8c18-90a78b75fd74' title='Show/Hide data repr'><svg class='icon xr-icon-database'><use xlink:href='#icon-database'></use></svg></label><div class='xr-var-attrs'><dl class='xr-attrs'></dl></div><div class='xr-var-data'><pre>array([[&#x27;2011-03-01T00:00:00.000000000&#x27;, &#x27;2011-06-01T00:00:00.000000000&#x27;],\n",
       "       [&#x27;2011-06-01T00:00:00.000000000&#x27;, &#x27;2011-09-01T00:00:00.000000000&#x27;],\n",
       "       [&#x27;2011-09-01T00:00:00.000000000&#x27;, &#x27;2011-12-01T00:00:00.000000000&#x27;],\n",
       "       [&#x27;2011-12-01T00:00:00.000000000&#x27;, &#x27;2012-03-01T00:00:00.000000000&#x27;],\n",
       "       [&#x27;2012-03-01T00:00:00.000000000&#x27;, &#x27;2012-06-01T00:00:00.000000000&#x27;],\n",
       "       [&#x27;2012-06-01T00:00:00.000000000&#x27;, &#x27;2012-09-01T00:00:00.000000000&#x27;],\n",
       "       [&#x27;2012-09-01T00:00:00.000000000&#x27;, &#x27;2012-12-01T00:00:00.000000000&#x27;],\n",
       "       [&#x27;2012-12-01T00:00:00.000000000&#x27;, &#x27;2013-03-01T00:00:00.000000000&#x27;],\n",
       "       [&#x27;2013-03-01T00:00:00.000000000&#x27;, &#x27;2013-06-01T00:00:00.000000000&#x27;],\n",
       "       [&#x27;2013-06-01T00:00:00.000000000&#x27;, &#x27;2013-09-01T00:00:00.000000000&#x27;],\n",
       "       [&#x27;2013-09-01T00:00:00.000000000&#x27;, &#x27;2013-12-01T00:00:00.000000000&#x27;],\n",
       "       [&#x27;2013-12-01T00:00:00.000000000&#x27;, &#x27;2014-03-01T00:00:00.000000000&#x27;],\n",
       "       [&#x27;2014-03-01T00:00:00.000000000&#x27;, &#x27;2014-06-01T00:00:00.000000000&#x27;],\n",
       "       [&#x27;2014-06-01T00:00:00.000000000&#x27;, &#x27;2014-09-01T00:00:00.000000000&#x27;],\n",
       "       [&#x27;2014-09-01T00:00:00.000000000&#x27;, &#x27;2014-12-01T00:00:00.000000000&#x27;],\n",
       "       [&#x27;2014-12-01T00:00:00.000000000&#x27;, &#x27;2015-03-01T00:00:00.000000000&#x27;],\n",
       "       [&#x27;2015-03-01T00:00:00.000000000&#x27;, &#x27;2015-06-01T00:00:00.000000000&#x27;],\n",
       "       [&#x27;2015-06-01T00:00:00.000000000&#x27;, &#x27;2015-09-01T00:00:00.000000000&#x27;],\n",
       "       [&#x27;2015-09-01T00:00:00.000000000&#x27;, &#x27;2015-12-01T00:00:00.000000000&#x27;],\n",
       "       [&#x27;2015-12-01T00:00:00.000000000&#x27;, &#x27;2016-03-01T00:00:00.000000000&#x27;],\n",
       "...\n",
       "       [&#x27;2036-03-01T00:00:00.000000000&#x27;, &#x27;2036-06-01T00:00:00.000000000&#x27;],\n",
       "       [&#x27;2036-06-01T00:00:00.000000000&#x27;, &#x27;2036-09-01T00:00:00.000000000&#x27;],\n",
       "       [&#x27;2036-09-01T00:00:00.000000000&#x27;, &#x27;2036-12-01T00:00:00.000000000&#x27;],\n",
       "       [&#x27;2036-12-01T00:00:00.000000000&#x27;, &#x27;2037-03-01T00:00:00.000000000&#x27;],\n",
       "       [&#x27;2037-03-01T00:00:00.000000000&#x27;, &#x27;2037-06-01T00:00:00.000000000&#x27;],\n",
       "       [&#x27;2037-06-01T00:00:00.000000000&#x27;, &#x27;2037-09-01T00:00:00.000000000&#x27;],\n",
       "       [&#x27;2037-09-01T00:00:00.000000000&#x27;, &#x27;2037-12-01T00:00:00.000000000&#x27;],\n",
       "       [&#x27;2037-12-01T00:00:00.000000000&#x27;, &#x27;2038-03-01T00:00:00.000000000&#x27;],\n",
       "       [&#x27;2038-03-01T00:00:00.000000000&#x27;, &#x27;2038-06-01T00:00:00.000000000&#x27;],\n",
       "       [&#x27;2038-06-01T00:00:00.000000000&#x27;, &#x27;2038-09-01T00:00:00.000000000&#x27;],\n",
       "       [&#x27;2038-09-01T00:00:00.000000000&#x27;, &#x27;2038-12-01T00:00:00.000000000&#x27;],\n",
       "       [&#x27;2038-12-01T00:00:00.000000000&#x27;, &#x27;2039-03-01T00:00:00.000000000&#x27;],\n",
       "       [&#x27;2039-03-01T00:00:00.000000000&#x27;, &#x27;2039-06-01T00:00:00.000000000&#x27;],\n",
       "       [&#x27;2039-06-01T00:00:00.000000000&#x27;, &#x27;2039-09-01T00:00:00.000000000&#x27;],\n",
       "       [&#x27;2039-09-01T00:00:00.000000000&#x27;, &#x27;2039-12-01T00:00:00.000000000&#x27;],\n",
       "       [&#x27;2039-12-01T00:00:00.000000000&#x27;, &#x27;2040-03-01T00:00:00.000000000&#x27;],\n",
       "       [&#x27;2040-03-01T00:00:00.000000000&#x27;, &#x27;2040-06-01T00:00:00.000000000&#x27;],\n",
       "       [&#x27;2040-06-01T00:00:00.000000000&#x27;, &#x27;2040-09-01T00:00:00.000000000&#x27;],\n",
       "       [&#x27;2040-09-01T00:00:00.000000000&#x27;, &#x27;2040-12-01T00:00:00.000000000&#x27;]],\n",
       "      dtype=&#x27;datetime64[ns]&#x27;)</pre></div></li><li class='xr-var-item'><div class='xr-var-name'><span>CSU</span></div><div class='xr-var-dims'>(time, lat, lon)</div><div class='xr-var-dtype'>float32</div><div class='xr-var-preview xr-preview'>nan nan nan nan ... nan nan nan nan</div><input id='attrs-eb7907d9-60f6-4e37-9611-f89a27a0993b' class='xr-var-attrs-in' type='checkbox' ><label for='attrs-eb7907d9-60f6-4e37-9611-f89a27a0993b' title='Show/Hide attributes'><svg class='icon xr-icon-file-text2'><use xlink:href='#icon-file-text2'></use></svg></label><input id='data-a966465a-efe6-4a63-b6f2-8446416c0c79' class='xr-var-data-in' type='checkbox'><label for='data-a966465a-efe6-4a63-b6f2-8446416c0c79' title='Show/Hide data repr'><svg class='icon xr-icon-database'><use xlink:href='#icon-database'></use></svg></label><div class='xr-var-attrs'><dl class='xr-attrs'><dt><span>long_name :</span></dt><dd>Maximum number of consecutive summer days(temperature &gt; 25 degrees_C)</dd><dt><span>units :</span></dt><dd>day</dd><dt><span>cell_methods :</span></dt><dd>time: maximum</dd></dl></div><div class='xr-var-data'><pre>array([[[nan, nan, nan, ..., nan, nan, nan],\n",
       "        [nan, nan, nan, ..., nan, nan, nan],\n",
       "        [nan, nan, nan, ..., nan, nan, nan],\n",
       "        ...,\n",
       "        [nan, nan, nan, ..., nan, nan, nan],\n",
       "        [nan, nan, nan, ..., nan, nan, nan],\n",
       "        [nan, nan, nan, ..., nan, nan, nan]],\n",
       "\n",
       "       [[nan, nan, nan, ..., nan, nan, nan],\n",
       "        [nan, nan, nan, ..., nan, nan, nan],\n",
       "        [nan, nan, nan, ..., nan, nan, nan],\n",
       "        ...,\n",
       "        [nan, nan, nan, ..., nan, nan, nan],\n",
       "        [nan, nan, nan, ..., nan, nan, nan],\n",
       "        [nan, nan, nan, ..., nan, nan, nan]],\n",
       "\n",
       "       [[nan, nan, nan, ..., nan, nan, nan],\n",
       "        [nan, nan, nan, ..., nan, nan, nan],\n",
       "        [nan, nan, nan, ..., nan, nan, nan],\n",
       "        ...,\n",
       "...\n",
       "        ...,\n",
       "        [nan, nan, nan, ..., nan, nan, nan],\n",
       "        [nan, nan, nan, ..., nan, nan, nan],\n",
       "        [nan, nan, nan, ..., nan, nan, nan]],\n",
       "\n",
       "       [[nan, nan, nan, ..., nan, nan, nan],\n",
       "        [nan, nan, nan, ..., nan, nan, nan],\n",
       "        [nan, nan, nan, ..., nan, nan, nan],\n",
       "        ...,\n",
       "        [nan, nan, nan, ..., nan, nan, nan],\n",
       "        [nan, nan, nan, ..., nan, nan, nan],\n",
       "        [nan, nan, nan, ..., nan, nan, nan]],\n",
       "\n",
       "       [[nan, nan, nan, ..., nan, nan, nan],\n",
       "        [nan, nan, nan, ..., nan, nan, nan],\n",
       "        [nan, nan, nan, ..., nan, nan, nan],\n",
       "        ...,\n",
       "        [nan, nan, nan, ..., nan, nan, nan],\n",
       "        [nan, nan, nan, ..., nan, nan, nan],\n",
       "        [nan, nan, nan, ..., nan, nan, nan]]], dtype=float32)</pre></div></li></ul></div></li><li class='xr-section-item'><input id='section-1dbf5b82-2049-4706-97ce-6de688a39943' class='xr-section-summary-in' type='checkbox'  ><label for='section-1dbf5b82-2049-4706-97ce-6de688a39943' class='xr-section-summary' >Indexes: <span>(3)</span></label><div class='xr-section-inline-details'></div><div class='xr-section-details'><ul class='xr-var-list'><li class='xr-var-item'><div class='xr-index-name'><div>time</div></div><div class='xr-index-preview'>PandasIndex</div><div></div><input id='index-26f1e82f-f4a2-4455-ac7c-281276911dd3' class='xr-index-data-in' type='checkbox'/><label for='index-26f1e82f-f4a2-4455-ac7c-281276911dd3' title='Show/Hide index repr'><svg class='icon xr-icon-database'><use xlink:href='#icon-database'></use></svg></label><div class='xr-index-data'><pre>PandasIndex(DatetimeIndex([&#x27;2011-04-16&#x27;, &#x27;2011-07-16&#x27;, &#x27;2011-10-16&#x27;, &#x27;2012-01-16&#x27;,\n",
       "               &#x27;2012-04-16&#x27;, &#x27;2012-07-16&#x27;, &#x27;2012-10-16&#x27;, &#x27;2013-01-16&#x27;,\n",
       "               &#x27;2013-04-16&#x27;, &#x27;2013-07-16&#x27;,\n",
       "               ...\n",
       "               &#x27;2038-07-16&#x27;, &#x27;2038-10-16&#x27;, &#x27;2039-01-16&#x27;, &#x27;2039-04-16&#x27;,\n",
       "               &#x27;2039-07-16&#x27;, &#x27;2039-10-16&#x27;, &#x27;2040-01-16&#x27;, &#x27;2040-04-16&#x27;,\n",
       "               &#x27;2040-07-16&#x27;, &#x27;2040-10-16&#x27;],\n",
       "              dtype=&#x27;datetime64[ns]&#x27;, name=&#x27;time&#x27;, length=119, freq=None))</pre></div></li><li class='xr-var-item'><div class='xr-index-name'><div>lat</div></div><div class='xr-index-preview'>PandasIndex</div><div></div><input id='index-da4fdef2-fe32-45a2-97d0-b52199d983ac' class='xr-index-data-in' type='checkbox'/><label for='index-da4fdef2-fe32-45a2-97d0-b52199d983ac' title='Show/Hide index repr'><svg class='icon xr-icon-database'><use xlink:href='#icon-database'></use></svg></label><div class='xr-index-data'><pre>PandasIndex(Index([-89.75, -89.25, -88.75, -88.25, -87.75, -87.25, -86.75, -86.25, -85.75,\n",
       "       -85.25,\n",
       "       ...\n",
       "        85.25,  85.75,  86.25,  86.75,  87.25,  87.75,  88.25,  88.75,  89.25,\n",
       "        89.75],\n",
       "      dtype=&#x27;float64&#x27;, name=&#x27;lat&#x27;, length=360))</pre></div></li><li class='xr-var-item'><div class='xr-index-name'><div>lon</div></div><div class='xr-index-preview'>PandasIndex</div><div></div><input id='index-9e9da74a-9406-47a8-a865-4583c4c44d42' class='xr-index-data-in' type='checkbox'/><label for='index-9e9da74a-9406-47a8-a865-4583c4c44d42' title='Show/Hide index repr'><svg class='icon xr-icon-database'><use xlink:href='#icon-database'></use></svg></label><div class='xr-index-data'><pre>PandasIndex(Index([-179.75, -179.25, -178.75, -178.25, -177.75, -177.25, -176.75, -176.25,\n",
       "       -175.75, -175.25,\n",
       "       ...\n",
       "        175.25,  175.75,  176.25,  176.75,  177.25,  177.75,  178.25,  178.75,\n",
       "        179.25,  179.75],\n",
       "      dtype=&#x27;float64&#x27;, name=&#x27;lon&#x27;, length=720))</pre></div></li></ul></div></li><li class='xr-section-item'><input id='section-2f0629cd-e61a-4e80-b378-a1ad330b8a50' class='xr-section-summary-in' type='checkbox'  ><label for='section-2f0629cd-e61a-4e80-b378-a1ad330b8a50' class='xr-section-summary' >Attributes: <span>(14)</span></label><div class='xr-section-inline-details'></div><div class='xr-section-details'><dl class='xr-attrs'><dt><span>title :</span></dt><dd>CSU index from ECA heat indices</dd><dt><span>institution :</span></dt><dd>Copernicus Climate Change Service</dd><dt><span>source :</span></dt><dd>Climate projection datasets from the ISIMIP Fast Track project (Warszawski, L., Frieler, K., Huber, V., Piontek, F., Serdeczny, O. and Schewe, J., 2014. The inter-sectoral impact model intercomparison project (ISIMIP): project framework. Proceedings of the National Academy of Sciences, 111(9), pp.3228-3232.)</dd><dt><span>references :</span></dt><dd>Tank, A.K., 2010. European Climate Assessment and Dataset (ECA&amp;D). Royal Netherlands Meteorological Institute KNMI, EUMETNET/WCSN optional programme</dd><dt><span>comment :</span></dt><dd></dd><dt><span>history :</span></dt><dd>Tue Sep 19 11:31:16 2017: cdo -f nc4c -z zip mergetime tasmax_bced_1960_1999_hadgem2-es_hist_1950.nc tasmax_bced_1960_1999_hadgem2-es_hist_1951-1960.nc tasmax_bced_1960_1999_hadgem2-es_hist_1961-1970.nc tasmax_bced_1960_1999_hadgem2-es_hist_1971-1980.nc tasmax_bced_1960_1999_hadgem2-es_hist_1981-1990.nc tasmax_bced_1960_1999_hadgem2-es_hist_1991-2000.nc tasmax_bced_1960_1999_hadgem2-es_hist_2001-2004.nc ../data_tmp2/tasmax_bced_1960_1999_hadgem2-es_hist_1950-2005.nc \n",
       "2019-04-17 22:00:07 Calculation of CSU indice (seasonal time series (MAM, JJA, SON, DJF)) from 2011-1-1 to 2040-12-31.</dd><dt><span>summary :</span></dt><dd></dd><dt><span>Conventions :</span></dt><dd>CF-1.7</dd><dt><span>contact :</span></dt><dd>https://climate.copernicus.eu</dd><dt><span>project :</span></dt><dd>C3S_422 Global Agriculture</dd><dt><span>creation_date :</span></dt><dd>2019-04-17T22:00:07GMT</dd><dt><span>lineage :</span></dt><dd></dd><dt><span>keywords :</span></dt><dd></dd><dt><span>license :</span></dt><dd></dd></dl></div></li></ul></div></div>"
      ],
      "text/plain": [
       "<xarray.Dataset>\n",
       "Dimensions:      (time: 119, lat: 360, lon: 720, bounds: 2)\n",
       "Coordinates:\n",
       "  * time         (time) datetime64[ns] 2011-04-16 2011-07-16 ... 2040-10-16\n",
       "  * lat          (lat) float64 -89.75 -89.25 -88.75 -88.25 ... 88.75 89.25 89.75\n",
       "  * lon          (lon) float64 -179.8 -179.2 -178.8 -178.2 ... 178.8 179.2 179.8\n",
       "Dimensions without coordinates: bounds\n",
       "Data variables:\n",
       "    time_bounds  (time, bounds) datetime64[ns] 2011-03-01 ... 2040-12-01\n",
       "    CSU          (time, lat, lon) float32 nan nan nan nan ... nan nan nan nan\n",
       "Attributes: (12/14)\n",
       "    title:          CSU index from ECA heat indices\n",
       "    institution:    Copernicus Climate Change Service\n",
       "    source:         Climate projection datasets from the ISIMIP Fast Track pr...\n",
       "    references:     Tank, A.K., 2010. European Climate Assessment and Dataset...\n",
       "    comment:        \n",
       "    history:        Tue Sep 19 11:31:16 2017: cdo -f nc4c -z zip mergetime ta...\n",
       "    ...             ...\n",
       "    contact:        https://climate.copernicus.eu\n",
       "    project:        C3S_422 Global Agriculture\n",
       "    creation_date:  2019-04-17T22:00:07GMT\n",
       "    lineage:        \n",
       "    keywords:       \n",
       "    license:        "
      ]
     },
     "execution_count": 3,
     "metadata": {},
     "output_type": "execute_result"
    }
   ],
   "source": [
    "e2010_12#.close()"
   ]
  },
  {
   "cell_type": "code",
   "execution_count": 29,
   "id": "01e96d63",
   "metadata": {},
   "outputs": [],
   "source": [
    "# WORKING\n",
    "import geopandas\n",
    "import rioxarray\n",
    "import xarray\n",
    "from shapely.geometry import mapping\n",
    "\n",
    "# Open the NetCDF dataset using xarray.open_dataset\n",
    "dataset = xarray.open_dataset('/home/mohamed/Documents/I-CISK/download/CSU_C3S-glob-agric_hadgem2-es_rcp8p5_season_20110101-20401231_v1.1.nc')\n",
    "\n",
    "# Select the specific data variable you want to work with from the dataset\n",
    "seasonal = dataset['CSU']\n",
    "\n",
    "seasonal.rio.set_spatial_dims(x_dim=\"lon\", y_dim=\"lat\", inplace=True)\n",
    "seasonal.rio.write_crs(\"epsg:4326\", inplace=True)\n",
    "\n",
    "Shapefile = geopandas.read_file('Meteo_data_Spain_Andalucia-main/Andalucia_regions/13_23_DemarcacionCEPS.shp', crs=\"epsg:4326\")\n",
    "\n",
    "clipped = seasonal.rio.clip(Shapefile.geometry.apply(mapping), Shapefile.crs, drop=False)\n",
    "#clipped.rio.write_nodata(-999)  # Set -9999 as the nodata value\n",
    "clipped.rio.to_raster(\"clipbuf.tif\", compress='LZMA', tiled=True, dtype=\"int32\")\n",
    "#clipped.rio.to_raster(\"clipped.tif\", compress='LZMA', tiled=True, dtype=\"int32\")\n",
    "clipped.to_netcdf(\"clipbuffer.nc\")\n"
   ]
  },
  {
   "cell_type": "code",
   "execution_count": null,
   "metadata": {},
   "outputs": [],
   "source": [
    "precp = xr.open_dataset(\"download/CSU_C3S-glob-agric_hadgem2-es_rcp8p5_season_20110101-20401231_v1.1.nc\")['CSU'].interp(lon=np.arange(69.75,140.26,0.25),lat=np.arange(14.75,55.26,0.25))\n",
    "precp.rio.write_crs(\"epsg:4326\", inplace=True)\n",
    "precp.rio.set_spatial_dims(x_dim=\"lon\", y_dim=\"lat\", inplace=True)\n",
    "cliped = precp.rio.clip(shp.geometry.apply(mapping),shp.crs,drop=False)\n",
    "cliped[0].plot()\n",
    "plt.show()"
   ]
  },
  {
   "cell_type": "code",
   "execution_count": 20,
   "metadata": {},
   "outputs": [
    {
     "data": {
      "image/png": "[encoded data removed]",
      "text/plain": [
       "<Figure size 640x480 with 2 Axes>"
      ]
     },
     "metadata": {},
     "output_type": "display_data"
    }
   ],
   "source": [
    "import xarray as xr\n",
    "import geopandas as gpd\n",
    "import numpy as np\n",
    "import matplotlib.pyplot as plt\n",
    "from shapely.geometry import mapping\n",
    "\n",
    "# 1. Load your own dataset\n",
    "precp = xr.open_dataset(\"download/CSU_C3S-glob-agric_hadgem2-es_rcp8p5_season_20110101-20401231_v1.1.nc\")['CSU']\n",
    "\n",
    "# 2. Update lon and lat values based on attributes\n",
    "lon_start = -179.75  # Starting longitude from the dataset\n",
    "lon_end = 179.75    # Ending longitude from the dataset\n",
    "lon_step = 0.5       # Longitude step size from the dataset\n",
    "\n",
    "lat_start = -89.75   # Starting latitude from the dataset\n",
    "lat_end = 89.75     # Ending latitude from the dataset\n",
    "lat_step = 0.5       # Latitude step size from the dataset\n",
    "\n",
    "precp = precp.interp(lon=np.arange(69.75,140.26,0.25),lat=np.arange(14.75,55.26,0.25))\n",
    "\n",
    "# 3. Update CRS if needed\n",
    "precp.rio.write_crs(\"epsg:4326\", inplace=True)\n",
    "\n",
    "# 4. Update spatial dimensions if needed\n",
    "precp.rio.set_spatial_dims(x_dim=\"lon\", y_dim=\"lat\", inplace=True)\n",
    "\n",
    "# 5. Read and represent the geometry of your shapefile\n",
    "shp = gpd.read_file(\"/home/mohamed/Documents/I-CISK/Meteo_data_Spain_Andalucia-main/Andalucia_regions/13_23_DemarcacionCEPS.shp\")\n",
    "\n",
    "# 6. Clip the data to the shapefile\n",
    "cliped = precp.rio.clip(shp.geometry.apply(mapping), shp.crs, drop=False)\n",
    "cliped[0].plot()\n",
    "\n",
    "# Show the plot\n",
    "plt.show()\n"
   ]
  },
  {
   "cell_type": "markdown",
   "id": "fd595480",
   "metadata": {},
   "source": [
    "Working with all bands in the netcdf"
   ]
  },
  {
   "cell_type": "code",
   "execution_count": 3,
   "metadata": {},
   "outputs": [],
   "source": [
    "# Working with all bands in the netcdf\n",
    "import xarray as xr\n",
    "import geopandas as gpd\n",
    "import matplotlib.pyplot as plt\n",
    "from shapely.geometry import mapping\n",
    "\n",
    "# 1. Load your own dataset\n",
    "precp = xr.open_dataset(\"netcdf/CSU_C3S-glob-agric_hadgem2-es_rcp8p5_season_20110101-20401231_v1.1.nc\")['CSU']\n",
    "\n",
    "# 2. Update CRS if needed\n",
    "precp.rio.write_crs(\"epsg:4326\", inplace=True)\n",
    "\n",
    "# 3. Update spatial dimensions if needed\n",
    "precp.rio.set_spatial_dims(x_dim=\"lon\", y_dim=\"lat\", inplace=True)\n",
    "\n",
    "# 4. Read and represent the geometry of your shapefile\n",
    "#shp = gpd.read_file(\"/home/mohamed/Documents/I-CISK/Meteo_data_Spain_Andalucia-main/Andalucia/Andalu_dis.shp\")\n",
    "shp = gpd.read_file(\"/home/mohamed/Downloads/andalucia_buffer8k/andalu_buff14k.shp\")\n",
    "\n",
    "# 5. Clip the data to the shapefile\n",
    "cliped = precp.rio.clip(shp.geometry.apply(mapping), shp.crs, drop=False)\n",
    "\n",
    "# Save the clipped data to a NetCDF file\n",
    "cliped.to_netcdf(\"clipped_buff14.nc\")\n"
   ]
  },
  {
   "cell_type": "code",
   "execution_count": 4,
   "id": "686e53fa",
   "metadata": {},
   "outputs": [
    {
     "data": {
      "application/vnd.plotly.v1+json": {
       "config": {
        "plotlyServerURL": "https://plot.ly"
       },
       "data": [
        {
         "hovertemplate": "time=%{x}<br>Average Max Summer Days=%{y}<extra></extra>",
         "legendgroup": "",
         "line": {
          "color": "#636efa",
          "dash": "solid"
         },
         "marker": {
          "symbol": "circle"
         },
         "mode": "markers+lines",
         "name": "",
         "orientation": "v",
         "showlegend": false,
         "type": "scatter",
         "x": [
          "2011-04-16T00:00:00",
          "2011-07-16T00:00:00",
          "2011-10-16T00:00:00",
          "2012-01-16T00:00:00",
          "2012-04-16T00:00:00",
          "2012-07-16T00:00:00",
          "2012-10-16T00:00:00",
          "2013-01-16T00:00:00",
          "2013-04-16T00:00:00",
          "2013-07-16T00:00:00",
          "2013-10-16T00:00:00",
          "2014-01-16T00:00:00",
          "2014-04-16T00:00:00",
          "2014-07-16T00:00:00",
          "2014-10-16T00:00:00",
          "2015-01-16T00:00:00",
          "2015-04-16T00:00:00",
          "2015-07-16T00:00:00",
          "2015-10-16T00:00:00",
          "2016-01-16T00:00:00",
          "2016-04-16T00:00:00",
          "2016-07-16T00:00:00",
          "2016-10-16T00:00:00",
          "2017-01-16T00:00:00",
          "2017-04-16T00:00:00",
          "2017-07-16T00:00:00",
          "2017-10-16T00:00:00",
          "2018-01-16T00:00:00",
          "2018-04-16T00:00:00",
          "2018-07-16T00:00:00",
          "2018-10-16T00:00:00",
          "2019-01-16T00:00:00",
          "2019-04-16T00:00:00",
          "2019-07-16T00:00:00",
          "2019-10-16T00:00:00",
          "2020-01-16T00:00:00",
          "2020-04-16T00:00:00",
          "2020-07-16T00:00:00",
          "2020-10-16T00:00:00",
          "2021-01-16T00:00:00",
          "2021-04-16T00:00:00",
          "2021-07-16T00:00:00",
          "2021-10-16T00:00:00",
          "2022-01-16T00:00:00",
          "2022-04-16T00:00:00",
          "2022-07-16T00:00:00",
          "2022-10-16T00:00:00",
          "2023-01-16T00:00:00",
          "2023-04-16T00:00:00",
          "2023-07-16T00:00:00",
          "2023-10-16T00:00:00",
          "2024-01-16T00:00:00",
          "2024-04-16T00:00:00",
          "2024-07-16T00:00:00",
          "2024-10-16T00:00:00",
          "2025-01-16T00:00:00",
          "2025-04-16T00:00:00",
          "2025-07-16T00:00:00",
          "2025-10-16T00:00:00",
          "2026-01-16T00:00:00",
          "2026-04-16T00:00:00",
          "2026-07-16T00:00:00",
          "2026-10-16T00:00:00",
          "2027-01-16T00:00:00",
          "2027-04-16T00:00:00",
          "2027-07-16T00:00:00",
          "2027-10-16T00:00:00",
          "2028-01-16T00:00:00",
          "2028-04-16T00:00:00",
          "2028-07-16T00:00:00",
          "2028-10-16T00:00:00",
          "2029-01-16T00:00:00",
          "2029-04-16T00:00:00",
          "2029-07-16T00:00:00",
          "2029-10-16T00:00:00",
          "2030-01-16T00:00:00",
          "2030-04-16T00:00:00",
          "2030-07-16T00:00:00",
          "2030-10-16T00:00:00",
          "2031-01-16T00:00:00",
          "2031-04-16T00:00:00",
          "2031-07-16T00:00:00",
          "2031-10-16T00:00:00",
          "2032-01-16T00:00:00",
          "2032-04-16T00:00:00",
          "2032-07-16T00:00:00",
          "2032-10-16T00:00:00",
          "2033-01-16T00:00:00",
          "2033-04-16T00:00:00",
          "2033-07-16T00:00:00",
          "2033-10-16T00:00:00",
          "2034-01-16T00:00:00",
          "2034-04-16T00:00:00",
          "2034-07-16T00:00:00",
          "2034-10-16T00:00:00",
          "2035-01-16T00:00:00",
          "2035-04-16T00:00:00",
          "2035-07-16T00:00:00",
          "2035-10-16T00:00:00",
          "2036-01-16T00:00:00",
          "2036-04-16T00:00:00",
          "2036-07-16T00:00:00",
          "2036-10-16T00:00:00",
          "2037-01-16T00:00:00",
          "2037-04-16T00:00:00",
          "2037-07-16T00:00:00",
          "2037-10-16T00:00:00",
          "2038-01-16T00:00:00",
          "2038-04-16T00:00:00",
          "2038-07-16T00:00:00",
          "2038-10-16T00:00:00",
          "2039-01-16T00:00:00",
          "2039-04-16T00:00:00",
          "2039-07-16T00:00:00",
          "2039-10-16T00:00:00",
          "2040-01-16T00:00:00",
          "2040-04-16T00:00:00",
          "2040-07-16T00:00:00",
          "2040-10-16T00:00:00"
         ],
         "xaxis": "x",
         "y": [
          30.332260131835938,
          36.73693084716797,
          29.690834045410156,
          23.971818923950195,
          29.33291244506836,
          36.457088470458984,
          30.264179229736328,
          23.244749069213867,
          28.913007736206055,
          36.443504333496094,
          30.173049926757812,
          23.13752555847168,
          29.055295944213867,
          37.39240646362305,
          30.771047592163086,
          25.215351104736328,
          30.850370407104492,
          38.19050598144531,
          31.04716682434082,
          24.65790557861328,
          29.300771713256836,
          37.51797866821289,
          30.693830490112305,
          23.75673484802246,
          30.196380615234375,
          37.26130294799805,
          30.243444442749023,
          24.094451904296875,
          29.747835159301758,
          37.418731689453125,
          31.51726531982422,
          24.587244033813477,
          30.558618545532227,
          39.01008605957031,
          31.008691787719727,
          24.1611385345459,
          29.644289016723633,
          38.79153060913086,
          31.4798583984375,
          25.114046096801758,
          30.342004776000977,
          38.73549270629883,
          31.493087768554688,
          23.932512283325195,
          30.548620223999023,
          38.26435852050781,
          31.911865234375,
          24.62189292907715,
          30.89236068725586,
          38.70821762084961,
          31.610397338867188,
          24.17938232421875,
          30.377573013305664,
          39.42064666748047,
          31.83623504638672,
          24.619266510009766,
          29.74538803100586,
          38.8270378112793,
          31.484262466430664,
          23.86818504333496,
          30.42405891418457,
          38.47930908203125,
          31.782882690429688,
          24.59773063659668,
          31.138608932495117,
          38.8492431640625,
          31.734041213989258,
          24.850534439086914,
          30.48715591430664,
          38.60066604614258,
          32.52134323120117,
          24.553321838378906,
          29.68389129638672,
          37.113792419433594,
          31.921358108520508,
          24.331029891967773,
          30.185909271240234,
          38.1782112121582,
          32.019832611083984,
          25.517427444458008,
          30.983386993408203,
          39.0632438659668,
          31.433002471923828,
          24.993770599365234,
          30.877513885498047,
          38.605918884277344,
          32.187156677246094,
          25.68134117126465,
          31.35304069519043,
          39.82426452636719,
          32.51980209350586,
          25.848264694213867,
          30.718036651611328,
          41.571388244628906,
          32.452491760253906,
          26.39313316345215,
          30.50602149963379,
          40.94540023803711,
          32.698486328125,
          25.662206649780273,
          31.33678436279297,
          40.8855094909668,
          33.11738204956055,
          24.320068359375,
          31.002269744873047,
          39.71346664428711,
          33.55984878540039,
          25.99412727355957,
          31.831443786621094,
          41.30585861206055,
          32.63516616821289,
          26.020395278930664,
          31.745208740234375,
          40.69357681274414,
          33.45528030395508,
          25.422531127929688,
          32.13404083251953,
          41.28607177734375,
          34.398738861083984
         ],
         "yaxis": "y"
        }
       ],
       "layout": {
        "legend": {
         "tracegroupgap": 0
        },
        "template": {
         "data": {
          "bar": [
           {
            "error_x": {
             "color": "#2a3f5f"
            },
            "error_y": {
             "color": "#2a3f5f"
            },
            "marker": {
             "line": {
              "color": "#E5ECF6",
              "width": 0.5
             },
             "pattern": {
              "fillmode": "overlay",
              "size": 10,
              "solidity": 0.2
             }
            },
            "type": "bar"
           }
          ],
          "barpolar": [
           {
            "marker": {
             "line": {
              "color": "#E5ECF6",
              "width": 0.5
             },
             "pattern": {
              "fillmode": "overlay",
              "size": 10,
              "solidity": 0.2
             }
            },
            "type": "barpolar"
           }
          ],
          "carpet": [
           {
            "aaxis": {
             "endlinecolor": "#2a3f5f",
             "gridcolor": "white",
             "linecolor": "white",
             "minorgridcolor": "white",
             "startlinecolor": "#2a3f5f"
            },
            "baxis": {
             "endlinecolor": "#2a3f5f",
             "gridcolor": "white",
             "linecolor": "white",
             "minorgridcolor": "white",
             "startlinecolor": "#2a3f5f"
            },
            "type": "carpet"
           }
          ],
          "choropleth": [
           {
            "colorbar": {
             "outlinewidth": 0,
             "ticks": ""
            },
            "type": "choropleth"
           }
          ],
          "contour": [
           {
            "colorbar": {
             "outlinewidth": 0,
             "ticks": ""
            },
            "colorscale": [
             [
              0,
              "#0d0887"
             ],
             [
              0.1111111111111111,
              "#46039f"
             ],
             [
              0.2222222222222222,
              "#7201a8"
             ],
             [
              0.3333333333333333,
              "#9c179e"
             ],
             [
              0.4444444444444444,
              "#bd3786"
             ],
             [
              0.5555555555555556,
              "#d8576b"
             ],
             [
              0.6666666666666666,
              "#ed7953"
             ],
             [
              0.7777777777777778,
              "#fb9f3a"
             ],
             [
              0.8888888888888888,
              "#fdca26"
             ],
             [
              1,
              "#f0f921"
             ]
            ],
            "type": "contour"
           }
          ],
          "contourcarpet": [
           {
            "colorbar": {
             "outlinewidth": 0,
             "ticks": ""
            },
            "type": "contourcarpet"
           }
          ],
          "heatmap": [
           {
            "colorbar": {
             "outlinewidth": 0,
             "ticks": ""
            },
            "colorscale": [
             [
              0,
              "#0d0887"
             ],
             [
              0.1111111111111111,
              "#46039f"
             ],
             [
              0.2222222222222222,
              "#7201a8"
             ],
             [
              0.3333333333333333,
              "#9c179e"
             ],
             [
              0.4444444444444444,
              "#bd3786"
             ],
             [
              0.5555555555555556,
              "#d8576b"
             ],
             [
              0.6666666666666666,
              "#ed7953"
             ],
             [
              0.7777777777777778,
              "#fb9f3a"
             ],
             [
              0.8888888888888888,
              "#fdca26"
             ],
             [
              1,
              "#f0f921"
             ]
            ],
            "type": "heatmap"
           }
          ],
          "heatmapgl": [
           {
            "colorbar": {
             "outlinewidth": 0,
             "ticks": ""
            },
            "colorscale": [
             [
              0,
              "#0d0887"
             ],
             [
              0.1111111111111111,
              "#46039f"
             ],
             [
              0.2222222222222222,
              "#7201a8"
             ],
             [
              0.3333333333333333,
              "#9c179e"
             ],
             [
              0.4444444444444444,
              "#bd3786"
             ],
             [
              0.5555555555555556,
              "#d8576b"
             ],
             [
              0.6666666666666666,
              "#ed7953"
             ],
             [
              0.7777777777777778,
              "#fb9f3a"
             ],
             [
              0.8888888888888888,
              "#fdca26"
             ],
             [
              1,
              "#f0f921"
             ]
            ],
            "type": "heatmapgl"
           }
          ],
          "histogram": [
           {
            "marker": {
             "pattern": {
              "fillmode": "overlay",
              "size": 10,
              "solidity": 0.2
             }
            },
            "type": "histogram"
           }
          ],
          "histogram2d": [
           {
            "colorbar": {
             "outlinewidth": 0,
             "ticks": ""
            },
            "colorscale": [
             [
              0,
              "#0d0887"
             ],
             [
              0.1111111111111111,
              "#46039f"
             ],
             [
              0.2222222222222222,
              "#7201a8"
             ],
             [
              0.3333333333333333,
              "#9c179e"
             ],
             [
              0.4444444444444444,
              "#bd3786"
             ],
             [
              0.5555555555555556,
              "#d8576b"
             ],
             [
              0.6666666666666666,
              "#ed7953"
             ],
             [
              0.7777777777777778,
              "#fb9f3a"
             ],
             [
              0.8888888888888888,
              "#fdca26"
             ],
             [
              1,
              "#f0f921"
             ]
            ],
            "type": "histogram2d"
           }
          ],
          "histogram2dcontour": [
           {
            "colorbar": {
             "outlinewidth": 0,
             "ticks": ""
            },
            "colorscale": [
             [
              0,
              "#0d0887"
             ],
             [
              0.1111111111111111,
              "#46039f"
             ],
             [
              0.2222222222222222,
              "#7201a8"
             ],
             [
              0.3333333333333333,
              "#9c179e"
             ],
             [
              0.4444444444444444,
              "#bd3786"
             ],
             [
              0.5555555555555556,
              "#d8576b"
             ],
             [
              0.6666666666666666,
              "#ed7953"
             ],
             [
              0.7777777777777778,
              "#fb9f3a"
             ],
             [
              0.8888888888888888,
              "#fdca26"
             ],
             [
              1,
              "#f0f921"
             ]
            ],
            "type": "histogram2dcontour"
           }
          ],
          "mesh3d": [
           {
            "colorbar": {
             "outlinewidth": 0,
             "ticks": ""
            },
            "type": "mesh3d"
           }
          ],
          "parcoords": [
           {
            "line": {
             "colorbar": {
              "outlinewidth": 0,
              "ticks": ""
             }
            },
            "type": "parcoords"
           }
          ],
          "pie": [
           {
            "automargin": true,
            "type": "pie"
           }
          ],
          "scatter": [
           {
            "fillpattern": {
             "fillmode": "overlay",
             "size": 10,
             "solidity": 0.2
            },
            "type": "scatter"
           }
          ],
          "scatter3d": [
           {
            "line": {
             "colorbar": {
              "outlinewidth": 0,
              "ticks": ""
             }
            },
            "marker": {
             "colorbar": {
              "outlinewidth": 0,
              "ticks": ""
             }
            },
            "type": "scatter3d"
           }
          ],
          "scattercarpet": [
           {
            "marker": {
             "colorbar": {
              "outlinewidth": 0,
              "ticks": ""
             }
            },
            "type": "scattercarpet"
           }
          ],
          "scattergeo": [
           {
            "marker": {
             "colorbar": {
              "outlinewidth": 0,
              "ticks": ""
             }
            },
            "type": "scattergeo"
           }
          ],
          "scattergl": [
           {
            "marker": {
             "colorbar": {
              "outlinewidth": 0,
              "ticks": ""
             }
            },
            "type": "scattergl"
           }
          ],
          "scattermapbox": [
           {
            "marker": {
             "colorbar": {
              "outlinewidth": 0,
              "ticks": ""
             }
            },
            "type": "scattermapbox"
           }
          ],
          "scatterpolar": [
           {
            "marker": {
             "colorbar": {
              "outlinewidth": 0,
              "ticks": ""
             }
            },
            "type": "scatterpolar"
           }
          ],
          "scatterpolargl": [
           {
            "marker": {
             "colorbar": {
              "outlinewidth": 0,
              "ticks": ""
             }
            },
            "type": "scatterpolargl"
           }
          ],
          "scatterternary": [
           {
            "marker": {
             "colorbar": {
              "outlinewidth": 0,
              "ticks": ""
             }
            },
            "type": "scatterternary"
           }
          ],
          "surface": [
           {
            "colorbar": {
             "outlinewidth": 0,
             "ticks": ""
            },
            "colorscale": [
             [
              0,
              "#0d0887"
             ],
             [
              0.1111111111111111,
              "#46039f"
             ],
             [
              0.2222222222222222,
              "#7201a8"
             ],
             [
              0.3333333333333333,
              "#9c179e"
             ],
             [
              0.4444444444444444,
              "#bd3786"
             ],
             [
              0.5555555555555556,
              "#d8576b"
             ],
             [
              0.6666666666666666,
              "#ed7953"
             ],
             [
              0.7777777777777778,
              "#fb9f3a"
             ],
             [
              0.8888888888888888,
              "#fdca26"
             ],
             [
              1,
              "#f0f921"
             ]
            ],
            "type": "surface"
           }
          ],
          "table": [
           {
            "cells": {
             "fill": {
              "color": "#EBF0F8"
             },
             "line": {
              "color": "white"
             }
            },
            "header": {
             "fill": {
              "color": "#C8D4E3"
             },
             "line": {
              "color": "white"
             }
            },
            "type": "table"
           }
          ]
         },
         "layout": {
          "annotationdefaults": {
           "arrowcolor": "#2a3f5f",
           "arrowhead": 0,
           "arrowwidth": 1
          },
          "autotypenumbers": "strict",
          "coloraxis": {
           "colorbar": {
            "outlinewidth": 0,
            "ticks": ""
           }
          },
          "colorscale": {
           "diverging": [
            [
             0,
             "#8e0152"
            ],
            [
             0.1,
             "#c51b7d"
            ],
            [
             0.2,
             "#de77ae"
            ],
            [
             0.3,
             "#f1b6da"
            ],
            [
             0.4,
             "#fde0ef"
            ],
            [
             0.5,
             "#f7f7f7"
            ],
            [
             0.6,
             "#e6f5d0"
            ],
            [
             0.7,
             "#b8e186"
            ],
            [
             0.8,
             "#7fbc41"
            ],
            [
             0.9,
             "#4d9221"
            ],
            [
             1,
             "#276419"
            ]
           ],
           "sequential": [
            [
             0,
             "#0d0887"
            ],
            [
             0.1111111111111111,
             "#46039f"
            ],
            [
             0.2222222222222222,
             "#7201a8"
            ],
            [
             0.3333333333333333,
             "#9c179e"
            ],
            [
             0.4444444444444444,
             "#bd3786"
            ],
            [
             0.5555555555555556,
             "#d8576b"
            ],
            [
             0.6666666666666666,
             "#ed7953"
            ],
            [
             0.7777777777777778,
             "#fb9f3a"
            ],
            [
             0.8888888888888888,
             "#fdca26"
            ],
            [
             1,
             "#f0f921"
            ]
           ],
           "sequentialminus": [
            [
             0,
             "#0d0887"
            ],
            [
             0.1111111111111111,
             "#46039f"
            ],
            [
             0.2222222222222222,
             "#7201a8"
            ],
            [
             0.3333333333333333,
             "#9c179e"
            ],
            [
             0.4444444444444444,
             "#bd3786"
            ],
            [
             0.5555555555555556,
             "#d8576b"
            ],
            [
             0.6666666666666666,
             "#ed7953"
            ],
            [
             0.7777777777777778,
             "#fb9f3a"
            ],
            [
             0.8888888888888888,
             "#fdca26"
            ],
            [
             1,
             "#f0f921"
            ]
           ]
          },
          "colorway": [
           "#636efa",
           "#EF553B",
           "#00cc96",
           "#ab63fa",
           "#FFA15A",
           "#19d3f3",
           "#FF6692",
           "#B6E880",
           "#FF97FF",
           "#FECB52"
          ],
          "font": {
           "color": "#2a3f5f"
          },
          "geo": {
           "bgcolor": "white",
           "lakecolor": "white",
           "landcolor": "#E5ECF6",
           "showlakes": true,
           "showland": true,
           "subunitcolor": "white"
          },
          "hoverlabel": {
           "align": "left"
          },
          "hovermode": "closest",
          "mapbox": {
           "style": "light"
          },
          "paper_bgcolor": "white",
          "plot_bgcolor": "#E5ECF6",
          "polar": {
           "angularaxis": {
            "gridcolor": "white",
            "linecolor": "white",
            "ticks": ""
           },
           "bgcolor": "#E5ECF6",
           "radialaxis": {
            "gridcolor": "white",
            "linecolor": "white",
            "ticks": ""
           }
          },
          "scene": {
           "xaxis": {
            "backgroundcolor": "#E5ECF6",
            "gridcolor": "white",
            "gridwidth": 2,
            "linecolor": "white",
            "showbackground": true,
            "ticks": "",
            "zerolinecolor": "white"
           },
           "yaxis": {
            "backgroundcolor": "#E5ECF6",
            "gridcolor": "white",
            "gridwidth": 2,
            "linecolor": "white",
            "showbackground": true,
            "ticks": "",
            "zerolinecolor": "white"
           },
           "zaxis": {
            "backgroundcolor": "#E5ECF6",
            "gridcolor": "white",
            "gridwidth": 2,
            "linecolor": "white",
            "showbackground": true,
            "ticks": "",
            "zerolinecolor": "white"
           }
          },
          "shapedefaults": {
           "line": {
            "color": "#2a3f5f"
           }
          },
          "ternary": {
           "aaxis": {
            "gridcolor": "white",
            "linecolor": "white",
            "ticks": ""
           },
           "baxis": {
            "gridcolor": "white",
            "linecolor": "white",
            "ticks": ""
           },
           "bgcolor": "#E5ECF6",
           "caxis": {
            "gridcolor": "white",
            "linecolor": "white",
            "ticks": ""
           }
          },
          "title": {
           "x": 0.05
          },
          "xaxis": {
           "automargin": true,
           "gridcolor": "white",
           "linecolor": "white",
           "ticks": "",
           "title": {
            "standoff": 15
           },
           "zerolinecolor": "white",
           "zerolinewidth": 2
          },
          "yaxis": {
           "automargin": true,
           "gridcolor": "white",
           "linecolor": "white",
           "ticks": "",
           "title": {
            "standoff": 15
           },
           "zerolinecolor": "white",
           "zerolinewidth": 2
          }
         }
        },
        "title": {
         "text": "Average Maximum Number of Consecutive Summer Days Over Time"
        },
        "xaxis": {
         "anchor": "y",
         "domain": [
          0,
          1
         ],
         "title": {
          "text": "time"
         }
        },
        "yaxis": {
         "anchor": "x",
         "domain": [
          0,
          1
         ],
         "title": {
          "text": "Average Max Summer Days"
         }
        }
       }
      }
     },
     "metadata": {},
     "output_type": "display_data"
    }
   ],
   "source": [
    "import xarray as xr\n",
    "import plotly.express as px\n",
    "\n",
    "# Open the NetCDF file\n",
    "nc_file = '/home/mohamed/Documents/I-CISK/netcdf/CSU_C3S-glob-agric_hadgem2-es_rcp8p5_season_20110101-20401231_v1.1.nc'\n",
    "ds = xr.open_dataset(nc_file)\n",
    "\n",
    "# Extract the variable of interest\n",
    "con_sum = ds['CSU']\n",
    "con_sum_avg = con_sum.mean(dim=['lat', 'lon'])\n",
    "df = con_sum_avg.to_dataframe(name='Average Max Summer Days')\n",
    "df = df.reset_index()\n",
    "\n",
    "fig = px.line(df, x='time', y='Average Max Summer Days', markers=True, title='Average Maximum Number of Consecutive Summer Days Over Time')\n",
    "\n",
    "fig.show()\n",
    "ds.close()"
   ]
  }
 ],
 "metadata": {
  "kernelspec": {
   "display_name": "Python 3 (ipykernel)",
   "language": "python",
   "name": "python3"
  },
  "language_info": {
   "codemirror_mode": {
    "name": "ipython",
    "version": 3
   },
   "file_extension": ".py",
   "mimetype": "text/x-python",
   "name": "python",
   "nbconvert_exporter": "python",
   "pygments_lexer": "ipython3",
   "version": "3.10.12"
  },
  "varInspector": {
   "cols": {
    "lenName": 16,
    "lenType": 16,
    "lenVar": 40
   },
   "kernels_config": {
    "python": {
     "delete_cmd_postfix": "",
     "delete_cmd_prefix": "del ",
     "library": "var_list.py",
     "varRefreshCmd": "print(var_dic_list())"
    },
    "r": {
     "delete_cmd_postfix": ") ",
     "delete_cmd_prefix": "rm(",
     "library": "var_list.r",
     "varRefreshCmd": "cat(var_dic_list()) "
    }
   },
   "types_to_exclude": [
    "module",
    "function",
    "builtin_function_or_method",
    "instance",
    "_Feature"
   ],
   "window_display": false
  }
 },
 "nbformat": 4,
 "nbformat_minor": 5
}
